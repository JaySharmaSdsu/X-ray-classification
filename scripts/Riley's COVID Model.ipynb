{
 "cells": [
  {
   "cell_type": "code",
   "execution_count": 1,
   "id": "7dd93ddb-255c-412b-bb76-7e8b9340f7ec",
   "metadata": {},
   "outputs": [],
   "source": [
    "import tensorflow as tf\n",
    "import os\n",
    "import numpy as np\n",
    "import matplotlib.pyplot as plt\n",
    "\n",
    "from tensorflow.keras.preprocessing.image import ImageDataGenerator\n",
    "from tensorflow.keras.models import Sequential\n",
    "from tensorflow.keras.layers import Conv2D, MaxPooling2D, Flatten, Dense"
   ]
  },
  {
   "cell_type": "code",
   "execution_count": 2,
   "id": "3f643b80-65fd-49ae-924c-cd1f1521f832",
   "metadata": {},
   "outputs": [
    {
     "name": "stdout",
     "output_type": "stream",
     "text": [
      "Found 10829 images belonging to 2 classes.\n"
     ]
    }
   ],
   "source": [
    "train_datagen = ImageDataGenerator(rescale=1./255, # normallize\n",
    "                                   shear_range= 0.2, #Augmentation\n",
    "                                   zoom_range=0.2,\n",
    "                                   horizontal_flip=True)\n",
    "\n",
    "training_set = train_datagen.flow_from_directory('Medical Images/Covid/Covid/X-ray',\n",
    "                                                 target_size=(64,64),\n",
    "                                                 batch_size=32,\n",
    "                                                 class_mode='binary')          \n"
   ]
  },
  {
   "cell_type": "code",
   "execution_count": 3,
   "id": "798292f9-66ad-4b86-a1e8-9d98af71ae7d",
   "metadata": {},
   "outputs": [],
   "source": [
    "model = Sequential()\n",
    "\n",
    "model.add(Conv2D(32, (3, 3), input_shape=(64, 64, 3), activation='relu'))\n",
    "model.add(MaxPooling2D(pool_size=(2, 2)))\n",
    "\n",
    "model.add(Conv2D(64, (3, 3), activation='relu'))\n",
    "model.add(MaxPooling2D(pool_size=(2, 2)))\n",
    "\n",
    "model.add(Flatten())\n",
    "\n",
    "model.add(Dense(units=128, activation='relu'))\n",
    "model.add(Dense(units=1, activation='sigmoid'))  # 'sigmoid' for binary classification\n",
    "\n",
    "model.compile(optimizer='adam', loss='binary_crossentropy', metrics=['accuracy'])\n"
   ]
  },
  {
   "cell_type": "code",
   "execution_count": 4,
   "id": "fd407845-9b86-4f4b-908d-720c789e4df2",
   "metadata": {},
   "outputs": [
    {
     "name": "stdout",
     "output_type": "stream",
     "text": [
      "Epoch 1/8\n",
      "339/339 [==============================] - 92s 271ms/step - loss: 0.1546 - accuracy: 0.9435\n",
      "Epoch 2/8\n",
      "339/339 [==============================] - 89s 263ms/step - loss: 0.1094 - accuracy: 0.9626\n",
      "Epoch 3/8\n",
      "339/339 [==============================] - 89s 263ms/step - loss: 0.0763 - accuracy: 0.9739\n",
      "Epoch 4/8\n",
      "339/339 [==============================] - 92s 272ms/step - loss: 0.0662 - accuracy: 0.9774\n",
      "Epoch 5/8\n",
      "339/339 [==============================] - 92s 271ms/step - loss: 0.0641 - accuracy: 0.9768\n",
      "Epoch 6/8\n",
      "339/339 [==============================] - 96s 283ms/step - loss: 0.0530 - accuracy: 0.9806\n",
      "Epoch 7/8\n",
      "339/339 [==============================] - 94s 279ms/step - loss: 0.0498 - accuracy: 0.9839\n",
      "Epoch 8/8\n",
      "339/339 [==============================] - 93s 275ms/step - loss: 0.0480 - accuracy: 0.9847\n"
     ]
    },
    {
     "data": {
      "text/plain": [
       "<keras.src.callbacks.History at 0x17335e810>"
      ]
     },
     "execution_count": 4,
     "metadata": {},
     "output_type": "execute_result"
    }
   ],
   "source": [
    "history = model.fit(training_set, epochs=8, steps_per_epoch=len(training_set),batch_size=16)\n",
    "history\n"
   ]
  },
  {
   "cell_type": "code",
   "execution_count": 7,
   "id": "1d73acd9-bb78-4f28-a038-ee046f4ffee3",
   "metadata": {},
   "outputs": [
    {
     "name": "stdout",
     "output_type": "stream",
     "text": [
      "1/1 [==============================] - 0s 9ms/step\n",
      "disease\n"
     ]
    }
   ],
   "source": [
    "from tensorflow.keras.preprocessing import image\n",
    "import numpy as np\n",
    "\n",
    "test_image = image.load_img('Medical Images/Covid/Covid/X-ray/Disease/01.jpeg', target_size=(64, 64))\n",
    "test_image = image.img_to_array(test_image)\n",
    "test_image = np.expand_dims(test_image, axis=0)\n",
    "result = model.predict(test_image)\n",
    "\n",
    "if result[0][0] == 1:\n",
    "    prediction = 'disease'\n",
    "else:\n",
    "    prediction = 'healthy'\n",
    "\n",
    "print(prediction)\n",
    "\n",
    "## try and find a way to make it run faster, maybe dask or parallelize, mine took more than 10 minus \n",
    "## start looking into other models and test them (other than sequential or beyond CNN) "
   ]
  },
  {
   "cell_type": "code",
   "execution_count": 8,
   "id": "a982996b-80bc-42b9-82e2-dff2f06ca575",
   "metadata": {},
   "outputs": [
    {
     "data": {
      "image/png": "[encoded data removed]",
      "text/plain": [
       "<Figure size 640x480 with 1 Axes>"
      ]
     },
     "metadata": {},
     "output_type": "display_data"
    }
   ],
   "source": [
    "plt.plot(history.history['loss'], label='Training Loss')\n",
    "## plt.plot(history.history['val_loss'], label='Validation Loss') dont have validation set when model runs ?\n",
    "plt.title('Training and Validation Loss')\n",
    "plt.xlabel('Epoch')\n",
    "plt.ylabel('Loss')\n",
    "plt.legend()\n",
    "plt.show()"
   ]
  },
  {
   "cell_type": "code",
   "execution_count": null,
   "id": "60270dd6-cb0f-4485-97c4-93978e345c91",
   "metadata": {},
   "outputs": [],
   "source": []
  }
 ],
 "metadata": {
  "kernelspec": {
   "display_name": "Python 3 (ipykernel)",
   "language": "python",
   "name": "python3"
  },
  "language_info": {
   "codemirror_mode": {
    "name": "ipython",
    "version": 3
   },
   "file_extension": ".py",
   "mimetype": "text/x-python",
   "name": "python",
   "nbconvert_exporter": "python",
   "pygments_lexer": "ipython3",
   "version": "3.11.4"
  }
 },
 "nbformat": 4,
 "nbformat_minor": 5
}
